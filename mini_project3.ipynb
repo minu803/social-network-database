{
 "cells": [
  {
   "cell_type": "code",
   "execution_count": 1,
   "id": "a4683f2b",
   "metadata": {},
   "outputs": [],
   "source": [
    "# !pip install neo4j\n",
    "import neo4j\n",
    "import pandas as pd"
   ]
  },
  {
   "cell_type": "code",
   "execution_count": 2,
   "id": "41e77b14",
   "metadata": {},
   "outputs": [],
   "source": [
    "def connect_db():\n",
    "    driver = neo4j.GraphDatabase.driver(uri=\"neo4j://0.0.0.0:7687\", auth=(\"neo4j\",\"password\"))\n",
    "    session = driver.session(database=\"neo4j\")\n",
    "    return session\n",
    "    \n",
    "def wipe_out_db(session):\n",
    "    # wipe out database by deleting all nodes and relationships\n",
    "    \n",
    "    # similar to SELECT * FROM graph_db in SQL\n",
    "    query = \"match (node)-[relationship]->() delete node, relationship\"\n",
    "    session.run(query)\n",
    "    \n",
    "    query = \"match (node) delete node\"\n",
    "    session.run(query)\n",
    "\n",
    "session = connect_db()\n",
    "wipe_out_db(session) "
   ]
  },
  {
   "cell_type": "markdown",
   "metadata": {},
   "source": [
    "## Create Posts & Comments"
   ]
  },
  {
   "cell_type": "code",
   "execution_count": 4,
   "metadata": {},
   "outputs": [
    {
     "data": {
      "text/plain": [
       "<neo4j._sync.work.result.Result at 0x147401a10>"
      ]
     },
     "execution_count": 4,
     "metadata": {},
     "output_type": "execute_result"
    }
   ],
   "source": [
    "query = '''\n",
    "CREATE\n",
    "  // Users\n",
    "  (josh:User {userID: '1001', name: 'Josh', age: 23, location: 'New York', interests: ['music', 'movies']}),\n",
    "  (sam:User {userID: '1002', name: 'Sam', age: 25, location: 'Paris', interests: ['books', 'travel']}),\n",
    "  (riley:User {userID: '1003', name: 'Riley', age: 35, location: 'London', interests: ['sports', 'technology']}),\n",
    "  (taylor:User {userID: '1004', name: 'Taylor', age: 28, location: 'San Francisco', interests: ['music', 'technology']}),\n",
    "  (alex:User {userID: '1005', name: 'Alex', age: 30, location: 'Berlin', interests: ['cooking', 'travel']}),\n",
    "  (morgan:User {userID: '1006', name: 'Morgan', age: 27, location: 'Sydney', interests: ['movies', 'books']}),\n",
    "\n",
    "  // Posts\n",
    "  (post1:Post {postID: 'post1', content: 'Music Festival Tips', timestamp: '2023-11-10T10:00:00', topic: 'music'}),\n",
    "  (post2:Post {postID: 'post2', content: 'Top Travel Destinations', timestamp: '2023-11-10T11:00:00', topic: 'travel'}),\n",
    "  (post3:Post {postID: 'post3', content: 'Latest Tech Trends', timestamp: '2023-11-10T12:00:00', topic: 'technology'}),\n",
    "  (post4:Post {postID: 'post4', content: 'Book Review: Sci-Fi Adventures', timestamp: '2023-11-10T13:00:00', topic: 'books'}),\n",
    "  (post5:Post {postID: 'post5', content: 'Exploring Movie Genres', timestamp: '2023-11-11T09:00:00', topic: 'movies'}),\n",
    "  (post6:Post {postID: 'post6', content: 'Healthy Cooking Recipes', timestamp: '2023-11-11T10:00:00', topic: 'cooking'}),\n",
    "  (post7:Post {postID: 'post7', content: 'Learning Photography Basics', timestamp: '2023-11-11T11:00:00', topic: 'photography'}),\n",
    "\n",
    "  // Groups\n",
    "  (groupMusic:Group {groupID: 'g1', name: 'Music Enthusiasts', description: 'A group for people who are passionate about music'}),\n",
    "  (groupTravel:Group {groupID: 'g2', name: 'Travel Buffs', description: 'A group for people who love to travel and explore new places'}),\n",
    "  (groupTech:Group {groupID: 'g3', name: 'Tech Innovators', description: 'A group for individuals interested in the latest technology trends'}),\n",
    "  \n",
    "  // Hashtag node type\n",
    "  (hashtagMusic:Hashtag {name: '#MusicFestival'}),\n",
    "  (hashtagTravel:Hashtag {name: '#TravelTips'}),\n",
    "  (hashtagTech:Hashtag {name: '#TechNews'}),\n",
    "\n",
    "  // User Post\n",
    "  (josh)-[:POSTED]->(post1),\n",
    "  (josh)-[:POSTED]->(post5),\n",
    "  (sam)-[:POSTED]->(post2),\n",
    "  (riley)-[:POSTED]->(post3),\n",
    "  (morgan)-[:POSTED]->(post4),\n",
    "  (alex)-[:POSTED]->(post6),\n",
    "  \n",
    "  // User comment\n",
    "  (josh)-[:COMMENTED_ON {content: 'Great tips!'}]->(post2),\n",
    "  (sam)-[:COMMENTED_ON {content: 'Interesting read.'}]->(post1),\n",
    "  (riley)-[:COMMENTED_ON {content: 'I totally agree.'}]->(post3),\n",
    "  (morgan)-[:COMMENTED_ON {content: 'Love this book too!'}]->(post4),\n",
    "  (alex)-[:COMMENTED_ON {content: 'Nice recipes.'}]->(post6),\n",
    "  (taylor)-[:COMMENTED_ON {content: 'Amazing photography skills!'}]->(post7),\n",
    "\n",
    "  // Establishing relationships between Users and Groups\n",
    "  (josh)-[:MEMBER_OF]->(groupMusic),\n",
    "  (sam)-[:MEMBER_OF]->(groupTravel),\n",
    "  (riley)-[:MEMBER_OF]->(groupTech),\n",
    "\n",
    "  // Tagging Posts with Hashtags\n",
    "  (post1)-[:TAGGED_WITH]->(hashtagMusic),\n",
    "  (post2)-[:TAGGED_WITH]->(hashtagTravel),\n",
    "  (post3)-[:TAGGED_WITH]->(hashtagTech),  \n",
    "\n",
    "  // Likes\n",
    "  (josh)-[:LIKED]->(post3),\n",
    "  (sam)-[:LIKED]->(post4),\n",
    "  (riley)-[:LIKED]->(post5),\n",
    "  (taylor)-[:LIKED]->(post2),\n",
    "  (alex)-[:LIKED]->(post1),\n",
    "  (morgan)-[:LIKED]->(post3),\n",
    "\n",
    "  // Friendships\n",
    "  (josh)-[:FRIEND]->(sam),\n",
    "  (josh)-[:FRIEND]->(taylor),\n",
    "  (sam)-[:FRIEND]->(riley),\n",
    "  (riley)-[:FRIEND]->(morgan),\n",
    "  (morgan)-[:FRIEND]->(alex),\n",
    "  (alex)-[:FRIEND]->(taylor)\n",
    "'''\n",
    "session.run(query)"
   ]
  },
  {
   "cell_type": "code",
   "execution_count": 5,
   "id": "3c3fc56c",
   "metadata": {},
   "outputs": [],
   "source": [
    "def run_query_to_pandas(session, query):\n",
    "    # run a query and return the results in a pandas dataframe\n",
    "    \n",
    "    result = session.run(query)\n",
    "    \n",
    "    df = pd.DataFrame([r.values() for r in result], columns=result.keys())\n",
    "    \n",
    "    return df\n",
    "\n",
    "def run_query_print_raw(session, query):\n",
    "    result = session.run(query)\n",
    "    \n",
    "    for r in result:\n",
    "        print(r.values())"
   ]
  },
  {
   "cell_type": "markdown",
   "metadata": {},
   "source": [
    "## Queries"
   ]
  },
  {
   "cell_type": "markdown",
   "metadata": {},
   "source": [
    "### 1.Retrieve a Property of a Specific User"
   ]
  },
  {
   "cell_type": "code",
   "execution_count": 6,
   "metadata": {},
   "outputs": [
    {
     "data": {
      "text/html": [
       "<div>\n",
       "<style scoped>\n",
       "    .dataframe tbody tr th:only-of-type {\n",
       "        vertical-align: middle;\n",
       "    }\n",
       "\n",
       "    .dataframe tbody tr th {\n",
       "        vertical-align: top;\n",
       "    }\n",
       "\n",
       "    .dataframe thead th {\n",
       "        text-align: right;\n",
       "    }\n",
       "</style>\n",
       "<table border=\"1\" class=\"dataframe\">\n",
       "  <thead>\n",
       "    <tr style=\"text-align: right;\">\n",
       "      <th></th>\n",
       "      <th>u.name</th>\n",
       "      <th>u.age</th>\n",
       "      <th>u.location</th>\n",
       "      <th>u.interests</th>\n",
       "    </tr>\n",
       "  </thead>\n",
       "  <tbody>\n",
       "    <tr>\n",
       "      <th>0</th>\n",
       "      <td>Josh</td>\n",
       "      <td>23</td>\n",
       "      <td>New York</td>\n",
       "      <td>[music, movies]</td>\n",
       "    </tr>\n",
       "  </tbody>\n",
       "</table>\n",
       "</div>"
      ],
      "text/plain": [
       "  u.name  u.age u.location      u.interests\n",
       "0   Josh     23   New York  [music, movies]"
      ]
     },
     "metadata": {},
     "output_type": "display_data"
    }
   ],
   "source": [
    "query = '''\n",
    "    MATCH (u:User {userID: '1001'}) \n",
    "    RETURN DISTINCT u.name, u.age, u.location, u.interests\n",
    "'''\n",
    "\n",
    "df = run_query_to_pandas(session, query)\n",
    "display(df)"
   ]
  },
  {
   "cell_type": "markdown",
   "metadata": {},
   "source": [
    "### 2. Find all Posts created by a specific User"
   ]
  },
  {
   "cell_type": "code",
   "execution_count": 7,
   "metadata": {},
   "outputs": [
    {
     "data": {
      "text/html": [
       "<div>\n",
       "<style scoped>\n",
       "    .dataframe tbody tr th:only-of-type {\n",
       "        vertical-align: middle;\n",
       "    }\n",
       "\n",
       "    .dataframe tbody tr th {\n",
       "        vertical-align: top;\n",
       "    }\n",
       "\n",
       "    .dataframe thead th {\n",
       "        text-align: right;\n",
       "    }\n",
       "</style>\n",
       "<table border=\"1\" class=\"dataframe\">\n",
       "  <thead>\n",
       "    <tr style=\"text-align: right;\">\n",
       "      <th></th>\n",
       "      <th>u.name</th>\n",
       "      <th>p.postID</th>\n",
       "      <th>p.content</th>\n",
       "      <th>p.timestamp</th>\n",
       "      <th>p.topic</th>\n",
       "    </tr>\n",
       "  </thead>\n",
       "  <tbody>\n",
       "    <tr>\n",
       "      <th>0</th>\n",
       "      <td>Josh</td>\n",
       "      <td>post5</td>\n",
       "      <td>Exploring Movie Genres</td>\n",
       "      <td>2023-11-11T09:00:00</td>\n",
       "      <td>movies</td>\n",
       "    </tr>\n",
       "    <tr>\n",
       "      <th>1</th>\n",
       "      <td>Josh</td>\n",
       "      <td>post1</td>\n",
       "      <td>Music Festival Tips</td>\n",
       "      <td>2023-11-10T10:00:00</td>\n",
       "      <td>music</td>\n",
       "    </tr>\n",
       "  </tbody>\n",
       "</table>\n",
       "</div>"
      ],
      "text/plain": [
       "  u.name p.postID               p.content          p.timestamp p.topic\n",
       "0   Josh    post5  Exploring Movie Genres  2023-11-11T09:00:00  movies\n",
       "1   Josh    post1     Music Festival Tips  2023-11-10T10:00:00   music"
      ]
     },
     "metadata": {},
     "output_type": "display_data"
    }
   ],
   "source": [
    "query = '''\n",
    "    MATCH (u:User)-[:POSTED]->(p:Post)\n",
    "    WHERE u.userID = '1001'\n",
    "    RETURN DISTINCT u.name,p.postID, p.content, p.timestamp, p.topic\n",
    "'''\n",
    "\n",
    "df = run_query_to_pandas(session, query)\n",
    "display(df)"
   ]
  },
  {
   "cell_type": "markdown",
   "metadata": {},
   "source": [
    "### 3. Find all Users who posted a specific topic of Post (topic is a property of Post)"
   ]
  },
  {
   "cell_type": "code",
   "execution_count": 8,
   "metadata": {},
   "outputs": [
    {
     "data": {
      "text/html": [
       "<div>\n",
       "<style scoped>\n",
       "    .dataframe tbody tr th:only-of-type {\n",
       "        vertical-align: middle;\n",
       "    }\n",
       "\n",
       "    .dataframe tbody tr th {\n",
       "        vertical-align: top;\n",
       "    }\n",
       "\n",
       "    .dataframe thead th {\n",
       "        text-align: right;\n",
       "    }\n",
       "</style>\n",
       "<table border=\"1\" class=\"dataframe\">\n",
       "  <thead>\n",
       "    <tr style=\"text-align: right;\">\n",
       "      <th></th>\n",
       "      <th>u.name</th>\n",
       "    </tr>\n",
       "  </thead>\n",
       "  <tbody>\n",
       "    <tr>\n",
       "      <th>0</th>\n",
       "      <td>Riley</td>\n",
       "    </tr>\n",
       "  </tbody>\n",
       "</table>\n",
       "</div>"
      ],
      "text/plain": [
       "  u.name\n",
       "0  Riley"
      ]
     },
     "metadata": {},
     "output_type": "display_data"
    }
   ],
   "source": [
    "query = '''\n",
    "    MATCH (u:User)-[:POSTED]->(p:Post)\n",
    "    WHERE p.topic = 'technology'\n",
    "    RETURN DISTINCT u.name\n",
    "'''\n",
    "df = run_query_to_pandas(session, query)\n",
    "display(df)"
   ]
  },
  {
   "cell_type": "markdown",
   "metadata": {},
   "source": [
    "### 4.Find common interests between two specific Users. "
   ]
  },
  {
   "cell_type": "code",
   "execution_count": 9,
   "metadata": {},
   "outputs": [
    {
     "data": {
      "text/html": [
       "<div>\n",
       "<style scoped>\n",
       "    .dataframe tbody tr th:only-of-type {\n",
       "        vertical-align: middle;\n",
       "    }\n",
       "\n",
       "    .dataframe tbody tr th {\n",
       "        vertical-align: top;\n",
       "    }\n",
       "\n",
       "    .dataframe thead th {\n",
       "        text-align: right;\n",
       "    }\n",
       "</style>\n",
       "<table border=\"1\" class=\"dataframe\">\n",
       "  <thead>\n",
       "    <tr style=\"text-align: right;\">\n",
       "      <th></th>\n",
       "      <th>u1.name</th>\n",
       "      <th>u2.name</th>\n",
       "      <th>commonInterests</th>\n",
       "    </tr>\n",
       "  </thead>\n",
       "  <tbody>\n",
       "    <tr>\n",
       "      <th>0</th>\n",
       "      <td>Josh</td>\n",
       "      <td>Taylor</td>\n",
       "      <td>[music]</td>\n",
       "    </tr>\n",
       "    <tr>\n",
       "      <th>1</th>\n",
       "      <td>Josh</td>\n",
       "      <td>Morgan</td>\n",
       "      <td>[movies]</td>\n",
       "    </tr>\n",
       "    <tr>\n",
       "      <th>2</th>\n",
       "      <td>Sam</td>\n",
       "      <td>Alex</td>\n",
       "      <td>[travel]</td>\n",
       "    </tr>\n",
       "    <tr>\n",
       "      <th>3</th>\n",
       "      <td>Sam</td>\n",
       "      <td>Morgan</td>\n",
       "      <td>[books]</td>\n",
       "    </tr>\n",
       "    <tr>\n",
       "      <th>4</th>\n",
       "      <td>Riley</td>\n",
       "      <td>Taylor</td>\n",
       "      <td>[technology]</td>\n",
       "    </tr>\n",
       "  </tbody>\n",
       "</table>\n",
       "</div>"
      ],
      "text/plain": [
       "  u1.name u2.name commonInterests\n",
       "0    Josh  Taylor         [music]\n",
       "1    Josh  Morgan        [movies]\n",
       "2     Sam    Alex        [travel]\n",
       "3     Sam  Morgan         [books]\n",
       "4   Riley  Taylor    [technology]"
      ]
     },
     "metadata": {},
     "output_type": "display_data"
    }
   ],
   "source": [
    "query = '''\n",
    "    MATCH (u1:User), (u2:User) \n",
    "    WHERE u1.userID < u2.userID AND any(interest IN u1.interests WHERE interest IN u2.interests) \n",
    "    RETURN DISTINCT u1.name, u2.name, [i IN u1.interests WHERE i IN u2.interests] AS commonInterests\n",
    "'''\n",
    "df = run_query_to_pandas(session, query)\n",
    "display(df)"
   ]
  },
  {
   "cell_type": "markdown",
   "metadata": {},
   "source": [
    "### 5. Retrieve top 3 Users who created most Posts"
   ]
  },
  {
   "cell_type": "code",
   "execution_count": 10,
   "metadata": {},
   "outputs": [
    {
     "data": {
      "text/html": [
       "<div>\n",
       "<style scoped>\n",
       "    .dataframe tbody tr th:only-of-type {\n",
       "        vertical-align: middle;\n",
       "    }\n",
       "\n",
       "    .dataframe tbody tr th {\n",
       "        vertical-align: top;\n",
       "    }\n",
       "\n",
       "    .dataframe thead th {\n",
       "        text-align: right;\n",
       "    }\n",
       "</style>\n",
       "<table border=\"1\" class=\"dataframe\">\n",
       "  <thead>\n",
       "    <tr style=\"text-align: right;\">\n",
       "      <th></th>\n",
       "      <th>u.name</th>\n",
       "      <th>numPosts</th>\n",
       "    </tr>\n",
       "  </thead>\n",
       "  <tbody>\n",
       "    <tr>\n",
       "      <th>0</th>\n",
       "      <td>Josh</td>\n",
       "      <td>2</td>\n",
       "    </tr>\n",
       "    <tr>\n",
       "      <th>1</th>\n",
       "      <td>Sam</td>\n",
       "      <td>1</td>\n",
       "    </tr>\n",
       "    <tr>\n",
       "      <th>2</th>\n",
       "      <td>Riley</td>\n",
       "      <td>1</td>\n",
       "    </tr>\n",
       "    <tr>\n",
       "      <th>3</th>\n",
       "      <td>Morgan</td>\n",
       "      <td>1</td>\n",
       "    </tr>\n",
       "    <tr>\n",
       "      <th>4</th>\n",
       "      <td>Alex</td>\n",
       "      <td>1</td>\n",
       "    </tr>\n",
       "  </tbody>\n",
       "</table>\n",
       "</div>"
      ],
      "text/plain": [
       "   u.name  numPosts\n",
       "0    Josh         2\n",
       "1     Sam         1\n",
       "2   Riley         1\n",
       "3  Morgan         1\n",
       "4    Alex         1"
      ]
     },
     "metadata": {},
     "output_type": "display_data"
    }
   ],
   "source": [
    "query = '''\n",
    "    MATCH (u:User)-[:POSTED]->(p:Post)\n",
    "    RETURN u.name, COUNT(DISTINCT p) AS numPosts\n",
    "    ORDER BY numPosts DESC\n",
    "'''\n",
    "df = run_query_to_pandas(session, query)\n",
    "display(df)"
   ]
  },
  {
   "cell_type": "markdown",
   "metadata": {},
   "source": [
    "### 6. Retrieve Users who haven’t created any Posts"
   ]
  },
  {
   "cell_type": "code",
   "execution_count": 11,
   "metadata": {},
   "outputs": [
    {
     "data": {
      "text/html": [
       "<div>\n",
       "<style scoped>\n",
       "    .dataframe tbody tr th:only-of-type {\n",
       "        vertical-align: middle;\n",
       "    }\n",
       "\n",
       "    .dataframe tbody tr th {\n",
       "        vertical-align: top;\n",
       "    }\n",
       "\n",
       "    .dataframe thead th {\n",
       "        text-align: right;\n",
       "    }\n",
       "</style>\n",
       "<table border=\"1\" class=\"dataframe\">\n",
       "  <thead>\n",
       "    <tr style=\"text-align: right;\">\n",
       "      <th></th>\n",
       "      <th>u.name</th>\n",
       "    </tr>\n",
       "  </thead>\n",
       "  <tbody>\n",
       "    <tr>\n",
       "      <th>0</th>\n",
       "      <td>Taylor</td>\n",
       "    </tr>\n",
       "  </tbody>\n",
       "</table>\n",
       "</div>"
      ],
      "text/plain": [
       "   u.name\n",
       "0  Taylor"
      ]
     },
     "metadata": {},
     "output_type": "display_data"
    }
   ],
   "source": [
    "query = '''\n",
    "    MATCH (u:User)\n",
    "    WHERE NOT EXISTS ((u)-[:POSTED]->(:Post))\n",
    "    RETURN u.name\n",
    "'''\n",
    "df = run_query_to_pandas(session, query)\n",
    "display(df)"
   ]
  },
  {
   "cell_type": "markdown",
   "metadata": {},
   "source": [
    "### 7. Given two Users, identify if they are indirectly connected through a chain of friends and, if so, return the connecting path. For instance, can you find a relationship path where Alice is friends with someone (say, Bob), who in turn is friends with Charlie?"
   ]
  },
  {
   "cell_type": "code",
   "execution_count": 12,
   "metadata": {},
   "outputs": [
    {
     "data": {
      "text/html": [
       "<div>\n",
       "<style scoped>\n",
       "    .dataframe tbody tr th:only-of-type {\n",
       "        vertical-align: middle;\n",
       "    }\n",
       "\n",
       "    .dataframe tbody tr th {\n",
       "        vertical-align: top;\n",
       "    }\n",
       "\n",
       "    .dataframe thead th {\n",
       "        text-align: right;\n",
       "    }\n",
       "</style>\n",
       "<table border=\"1\" class=\"dataframe\">\n",
       "  <thead>\n",
       "    <tr style=\"text-align: right;\">\n",
       "      <th></th>\n",
       "      <th>u1.name</th>\n",
       "      <th>u3.name</th>\n",
       "    </tr>\n",
       "  </thead>\n",
       "  <tbody>\n",
       "    <tr>\n",
       "      <th>0</th>\n",
       "      <td>Josh</td>\n",
       "      <td>Riley</td>\n",
       "    </tr>\n",
       "    <tr>\n",
       "      <th>1</th>\n",
       "      <td>Josh</td>\n",
       "      <td>Morgan</td>\n",
       "    </tr>\n",
       "    <tr>\n",
       "      <th>2</th>\n",
       "      <td>Josh</td>\n",
       "      <td>Alex</td>\n",
       "    </tr>\n",
       "    <tr>\n",
       "      <th>3</th>\n",
       "      <td>Sam</td>\n",
       "      <td>Taylor</td>\n",
       "    </tr>\n",
       "    <tr>\n",
       "      <th>4</th>\n",
       "      <td>Sam</td>\n",
       "      <td>Alex</td>\n",
       "    </tr>\n",
       "    <tr>\n",
       "      <th>5</th>\n",
       "      <td>Sam</td>\n",
       "      <td>Morgan</td>\n",
       "    </tr>\n",
       "    <tr>\n",
       "      <th>6</th>\n",
       "      <td>Riley</td>\n",
       "      <td>Josh</td>\n",
       "    </tr>\n",
       "    <tr>\n",
       "      <th>7</th>\n",
       "      <td>Riley</td>\n",
       "      <td>Taylor</td>\n",
       "    </tr>\n",
       "    <tr>\n",
       "      <th>8</th>\n",
       "      <td>Riley</td>\n",
       "      <td>Alex</td>\n",
       "    </tr>\n",
       "    <tr>\n",
       "      <th>9</th>\n",
       "      <td>Taylor</td>\n",
       "      <td>Sam</td>\n",
       "    </tr>\n",
       "    <tr>\n",
       "      <th>10</th>\n",
       "      <td>Taylor</td>\n",
       "      <td>Riley</td>\n",
       "    </tr>\n",
       "    <tr>\n",
       "      <th>11</th>\n",
       "      <td>Taylor</td>\n",
       "      <td>Morgan</td>\n",
       "    </tr>\n",
       "    <tr>\n",
       "      <th>12</th>\n",
       "      <td>Alex</td>\n",
       "      <td>Riley</td>\n",
       "    </tr>\n",
       "    <tr>\n",
       "      <th>13</th>\n",
       "      <td>Alex</td>\n",
       "      <td>Sam</td>\n",
       "    </tr>\n",
       "    <tr>\n",
       "      <th>14</th>\n",
       "      <td>Alex</td>\n",
       "      <td>Josh</td>\n",
       "    </tr>\n",
       "    <tr>\n",
       "      <th>15</th>\n",
       "      <td>Morgan</td>\n",
       "      <td>Sam</td>\n",
       "    </tr>\n",
       "    <tr>\n",
       "      <th>16</th>\n",
       "      <td>Morgan</td>\n",
       "      <td>Josh</td>\n",
       "    </tr>\n",
       "    <tr>\n",
       "      <th>17</th>\n",
       "      <td>Morgan</td>\n",
       "      <td>Taylor</td>\n",
       "    </tr>\n",
       "  </tbody>\n",
       "</table>\n",
       "</div>"
      ],
      "text/plain": [
       "   u1.name u3.name\n",
       "0     Josh   Riley\n",
       "1     Josh  Morgan\n",
       "2     Josh    Alex\n",
       "3      Sam  Taylor\n",
       "4      Sam    Alex\n",
       "5      Sam  Morgan\n",
       "6    Riley    Josh\n",
       "7    Riley  Taylor\n",
       "8    Riley    Alex\n",
       "9   Taylor     Sam\n",
       "10  Taylor   Riley\n",
       "11  Taylor  Morgan\n",
       "12    Alex   Riley\n",
       "13    Alex     Sam\n",
       "14    Alex    Josh\n",
       "15  Morgan     Sam\n",
       "16  Morgan    Josh\n",
       "17  Morgan  Taylor"
      ]
     },
     "metadata": {},
     "output_type": "display_data"
    }
   ],
   "source": [
    "query = '''\n",
    "    MATCH path = (u1:User)-[:FRIEND*2..3]-(u3:User)\n",
    "    WHERE u1 <> u3 AND length(path) > 1\n",
    "    RETURN DISTINCT u1.name, u3.name\n",
    "'''\n",
    "df = run_query_to_pandas(session, query)\n",
    "display(df)\n"
   ]
  },
  {
   "cell_type": "markdown",
   "metadata": {},
   "source": [
    "### 8. Write a query to identify orphaned Users (Users who have no connections). Can you think of a scenario when this information is useful?"
   ]
  },
  {
   "cell_type": "code",
   "execution_count": 13,
   "metadata": {},
   "outputs": [
    {
     "data": {
      "text/html": [
       "<div>\n",
       "<style scoped>\n",
       "    .dataframe tbody tr th:only-of-type {\n",
       "        vertical-align: middle;\n",
       "    }\n",
       "\n",
       "    .dataframe tbody tr th {\n",
       "        vertical-align: top;\n",
       "    }\n",
       "\n",
       "    .dataframe thead th {\n",
       "        text-align: right;\n",
       "    }\n",
       "</style>\n",
       "<table border=\"1\" class=\"dataframe\">\n",
       "  <thead>\n",
       "    <tr style=\"text-align: right;\">\n",
       "      <th></th>\n",
       "      <th>u.name</th>\n",
       "    </tr>\n",
       "  </thead>\n",
       "  <tbody>\n",
       "  </tbody>\n",
       "</table>\n",
       "</div>"
      ],
      "text/plain": [
       "Empty DataFrame\n",
       "Columns: [u.name]\n",
       "Index: []"
      ]
     },
     "metadata": {},
     "output_type": "display_data"
    }
   ],
   "source": [
    "query = '''\n",
    "    MATCH (u:User) \n",
    "    WHERE NOT (u)-[:FRIEND]-(:User) \n",
    "    RETURN u.name\n",
    "'''\n",
    "df = run_query_to_pandas(session, query)\n",
    "display(df)"
   ]
  },
  {
   "cell_type": "markdown",
   "metadata": {},
   "source": [
    "In social media, identifying orphaned users — those without connections — is crucial for creating an engaging and inclusive community. Social platforms can use this data to strategically integrate these users into the community by analyzing their interests and suggesting relevant friends or groups. This personalized approach not only improves user satisfaction but also boosts the network's interactivity. By engaging these users, platforms can increase overall activity and foster a more dynamic social environment."
   ]
  },
  {
   "cell_type": "markdown",
   "metadata": {},
   "source": []
  }
 ],
 "metadata": {
  "kernelspec": {
   "display_name": "Python 3 (ipykernel)",
   "language": "python",
   "name": "python3"
  },
  "language_info": {
   "codemirror_mode": {
    "name": "ipython",
    "version": 3
   },
   "file_extension": ".py",
   "mimetype": "text/x-python",
   "name": "python",
   "nbconvert_exporter": "python",
   "pygments_lexer": "ipython3",
   "version": "3.11.4"
  }
 },
 "nbformat": 4,
 "nbformat_minor": 5
}
